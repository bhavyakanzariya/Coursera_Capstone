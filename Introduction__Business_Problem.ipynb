{
 "cells": [
  {
   "cell_type": "markdown",
   "metadata": {},
   "source": [
    "# Introduction"
   ]
  },
  {
   "cell_type": "markdown",
   "metadata": {},
   "source": [
    "A food chain company based in US has realised that offering different menus in different cities is beneficial to their sales number. However, creating a separate menu for every single city is becoming logistical and marketing nightmare, it also goes against brand idea of simplicity. So, administration has decided to compromise and look to separate cities in clusters based on what food habits their population has. \n"
   ]
  },
  {
   "cell_type": "markdown",
   "metadata": {},
   "source": [
    "A simple way of explaining existing food habits or what kind of restaurants people prefer is to look at all the existing restaurants in the city/area. It can give very valuable info such as whether there is demand for various different cuisines or just local food? Is city cosmopolitan or not? Are full meal products in more demand compared to small dishes? "
   ]
  },
  {
   "cell_type": "markdown",
   "metadata": {},
   "source": [
    "# Business Problem"
   ]
  },
  {
   "cell_type": "markdown",
   "metadata": {},
   "source": [
    "Idea: To separate cities into clusters based on existing restaurants in cities."
   ]
  },
  {
   "cell_type": "markdown",
   "metadata": {},
   "source": [
    "Foursquare Data: List of all the restaurnats in city, along with drinks and coffee shops"
   ]
  },
  {
   "cell_type": "markdown",
   "metadata": {},
   "source": [
    "Target Audience: A food chain company"
   ]
  },
  {
   "cell_type": "markdown",
   "metadata": {},
   "source": [
    "Why should they care?:<br>\n",
    "A food chain company that can appeal to more customers by adding popular items in its menu also has to maintain its brand image and consistency. It may lose its appeal if a customer has to look at totally different menus across different cities. Not to mention increased cost of giving different raw material to different places making scale of business less relevant.<br>\n",
    "At the same time, making slight changes in menus based on location or cities could make it more attractive for some customer. In order to reduce total number of recipes across all food chain to keep the benefit of scale, it is necessary to cluster cities into different groups."
   ]
  }
 ],
 "metadata": {
  "kernelspec": {
   "display_name": "Python 3",
   "language": "python",
   "name": "python3"
  },
  "language_info": {
   "codemirror_mode": {
    "name": "ipython",
    "version": 3
   },
   "file_extension": ".py",
   "mimetype": "text/x-python",
   "name": "python",
   "nbconvert_exporter": "python",
   "pygments_lexer": "ipython3",
   "version": "3.7.1"
  }
 },
 "nbformat": 4,
 "nbformat_minor": 2
}
